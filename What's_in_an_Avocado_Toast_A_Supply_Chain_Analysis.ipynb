{
  "cells": [
    {
      "cell_type": "markdown",
      "metadata": {
        "id": "view-in-github",
        "colab_type": "text"
      },
      "source": [
        "<a href=\"https://colab.research.google.com/github/Xavier-ML/What-s-in-an-Avocado-Toast-A-Supply-Chain-Analysis/blob/main/What's_in_an_Avocado_Toast_A_Supply_Chain_Analysis.ipynb\" target=\"_parent\"><img src=\"https://colab.research.google.com/assets/colab-badge.svg\" alt=\"Open In Colab\"/></a>"
      ]
    },
    {
      "source": [
        "# What's in an Avocado Toast: A Supply Chain Analysis\n",
        "\n",
        "![](avocado_wallpaper.jpeg)\n",
        "\n",
        "You find yourself in London, crafting a delectable avocado toast, a dish that has risen dramatically in popularity on breakfast menus since the 2010s. This straightforward recipe requires just five ingredients: a ripe avocado, half a lemon, a generous pinch of salt flakes, two slices of sourdough bread, and a good drizzle of extra virgin olive oil. Most of these ingredients are now staples in grocery stores, and as you will find with this project, that is no small feat!\n",
        "\n",
        "In this project, you'll conduct a supply chain analysis of three ingredients used in avocado toast using the Open Food Facts database. This database contains extensive, openly-sourced information on various foods, including their origins. Through this analysis, you will gain an in-depth understanding of the complex supply chain involved in producing a single dish.\n",
        "\n",
        "Three pairs of files are provided in the data folder:\n",
        "- A CSV file for each ingredient, such as `avocado.csv`, with data about each food item and countries of origin.\n",
        "- A TXT file for each ingredient, such as `relevant_avocado_categories`, containing only the category tags of interest for that food.\n",
        "\n",
        "Here are some other key points about these files:\n",
        "- Some of the rows of data in each of the three CSV files do not contain relevant data for your investigation. In each dataset, you will need to filter out rows with irrelevant data, based on values in the `categories_tags` column. Examples of categories are fruits, vegetables, and fruit-based oils. Filter the DataFrame to include only rows where `categories_tags` contains one of the tags in the relevant categories for that ingredient.\n",
        "- Each row of data usually has multiple category tags in the `categories_tags` column.\n",
        "There is a column in each CSV file called `origins_tags`, which contains strings for the country of origin of each item.\n",
        "\n",
        "After completing this project, you'll be armed with a list of ingredients and their countries of origin and be well-positioned to launch into other analyses that explore how long, on average, these ingredients spend at sea.\n",
        "\n",
        "[Open Food Facts database](https://world.openfoodfacts.org/)"
      ],
      "metadata": {
        "id": "32ec92a0-c21a-45b8-ac63-9f9c698a1291"
      },
      "id": "32ec92a0-c21a-45b8-ac63-9f9c698a1291",
      "cell_type": "markdown"
    },
    {
      "source": [
        "import pandas as pd"
      ],
      "metadata": {
        "executionTime": 53,
        "lastSuccessfullyExecutedCode": "import pandas as pd",
        "executionCancelledAt": null,
        "lastExecutedAt": 1738617150343,
        "lastExecutedByKernel": "001ecb78-15db-4ab7-a289-842d27ba2f24",
        "lastScheduledRunId": null,
        "id": "339a6352-aed5-4b9e-a48f-1b91a7db9adb"
      },
      "id": "339a6352-aed5-4b9e-a48f-1b91a7db9adb",
      "cell_type": "code",
      "execution_count": null,
      "outputs": []
    },
    {
      "source": [
        "avocado = pd.read_csv('data/avocado.csv', sep='\\t')\n",
        "avocado.head()"
      ],
      "metadata": {
        "executionCancelledAt": null,
        "executionTime": 143,
        "lastExecutedAt": 1738617150486,
        "lastExecutedByKernel": "001ecb78-15db-4ab7-a289-842d27ba2f24",
        "lastScheduledRunId": null,
        "lastSuccessfullyExecutedCode": "avocado = pd.read_csv('data/avocado.csv', sep='\\t')\navocado.head()",
        "outputsMetadata": {
          "0": {
            "height": 262,
            "type": "dataFrame",
            "tableState": {
              "customFilter": {
                "const": {
                  "type": "boolean",
                  "valid": true,
                  "value": true
                },
                "id": "589c623a-63c3-4587-9c75-3a242d07e860",
                "nodeType": "const"
              },
              "quickFilterText": ""
            }
          }
        },
        "id": "7be3e6f2-1734-40ef-8ea0-edda5e70ec8b",
        "outputId": "b589d74e-a554-4fa8-ec30-d93510fe6022"
      },
      "cell_type": "code",
      "id": "7be3e6f2-1734-40ef-8ea0-edda5e70ec8b",
      "outputs": [
        {
          "output_type": "execute_result",
          "data": {
            "application/com.datacamp.data-table.v2+json": {
              "table": {
                "schema": {
                  "fields": [
                    {
                      "name": "index",
                      "type": "integer"
                    },
                    {
                      "name": "code",
                      "type": "string"
                    },
                    {
                      "name": "lc",
                      "type": "string"
                    },
                    {
                      "name": "product_name_de",
                      "type": "string"
                    },
                    {
                      "name": "product_name_el",
                      "type": "string"
                    },
                    {
                      "name": "product_name_en",
                      "type": "string"
                    },
                    {
                      "name": "product_name_es",
                      "type": "string"
                    },
                    {
                      "name": "product_name_fi",
                      "type": "string"
                    },
                    {
                      "name": "product_name_fr",
                      "type": "string"
                    },
                    {
                      "name": "product_name_id",
                      "type": "string"
                    },
                    {
                      "name": "product_name_it",
                      "type": "string"
                    },
                    {
                      "name": "product_name_lt",
                      "type": "string"
                    },
                    {
                      "name": "product_name_lv",
                      "type": "string"
                    },
                    {
                      "name": "product_name_nb",
                      "type": "string"
                    },
                    {
                      "name": "product_name_nl",
                      "type": "string"
                    },
                    {
                      "name": "product_name_pl",
                      "type": "string"
                    },
                    {
                      "name": "product_name_ro",
                      "type": "string"
                    },
                    {
                      "name": "product_name_sl",
                      "type": "string"
                    },
                    {
                      "name": "product_name_sv",
                      "type": "string"
                    },
                    {
                      "name": "generic_name_de",
                      "type": "string"
                    },
                    {
                      "name": "generic_name_en",
                      "type": "string"
                    },
                    {
                      "name": "generic_name_es",
                      "type": "string"
                    },
                    {
                      "name": "generic_name_fr",
                      "type": "string"
                    },
                    {
                      "name": "generic_name_sv",
                      "type": "string"
                    },
                    {
                      "name": "quantity",
                      "type": "string"
                    },
                    {
                      "name": "serving_size",
                      "type": "string"
                    },
                    {
                      "name": "packaging",
                      "type": "string"
                    },
                    {
                      "name": "packaging_tags",
                      "type": "string"
                    },
                    {
                      "name": "brands",
                      "type": "string"
                    },
                    {
                      "name": "brands_tags",
                      "type": "string"
                    },
                    {
                      "name": "brand_owner",
                      "type": "string"
                    },
                    {
                      "name": "categories",
                      "type": "string"
                    },
                    {
                      "name": "categories_tags",
                      "type": "string"
                    },
                    {
                      "name": "labels",
                      "type": "string"
                    },
                    {
                      "name": "labels_tags",
                      "type": "string"
                    },
                    {
                      "name": "countries",
                      "type": "string"
                    },
                    {
                      "name": "countries_tags",
                      "type": "string"
                    },
                    {
                      "name": "stores",
                      "type": "string"
                    },
                    {
                      "name": "stores_tags",
                      "type": "string"
                    },
                    {
                      "name": "obsolete",
                      "type": "integer"
                    },
                    {
                      "name": "obsolete_since_date",
                      "type": "string"
                    },
                    {
                      "name": "origins",
                      "type": "string"
                    },
                    {
                      "name": "origins_tags",
                      "type": "string"
                    },
                    {
                      "name": "origin_en",
                      "type": "string"
                    },
                    {
                      "name": "origin_fr",
                      "type": "string"
                    },
                    {
                      "name": "manufacturing_places",
                      "type": "string"
                    },
                    {
                      "name": "manufacturing_places_tags",
                      "type": "string"
                    },
                    {
                      "name": "emb_codes",
                      "type": "string"
                    },
                    {
                      "name": "emb_codes_tags",
                      "type": "string"
                    },
                    {
                      "name": "ingredients_text_de",
                      "type": "string"
                    },
                    {
                      "name": "ingredients_text_en",
                      "type": "string"
                    },
                    {
                      "name": "ingredients_text_es",
                      "type": "string"
                    },
                    {
                      "name": "ingredients_text_fi",
                      "type": "string"
                    },
                    {
                      "name": "ingredients_text_fr",
                      "type": "string"
                    },
                    {
                      "name": "ingredients_text_id",
                      "type": "string"
                    },
                    {
                      "name": "ingredients_text_it",
                      "type": "string"
                    },
                    {
                      "name": "ingredients_text_lt",
                      "type": "string"
                    },
                    {
                      "name": "ingredients_text_lv",
                      "type": "string"
                    },
                    {
                      "name": "ingredients_text_nb",
                      "type": "string"
                    },
                    {
                      "name": "ingredients_text_nl",
                      "type": "string"
                    },
                    {
                      "name": "ingredients_text_pl",
                      "type": "string"
                    },
                    {
                      "name": "ingredients_text_ro",
                      "type": "string"
                    },
                    {
                      "name": "ingredients_text_sv",
                      "type": "string"
                    },
                    {
                      "name": "allergens",
                      "type": "string"
                    },
                    {
                      "name": "allergens_tags",
                      "type": "string"
                    },
                    {
                      "name": "traces",
                      "type": "string"
                    },
                    {
                      "name": "traces_tags",
                      "type": "string"
                    },
                    {
                      "name": "no_nutrition_data",
                      "type": "string"
                    },
                    {
                      "name": "nutrition_data_per",
                      "type": "string"
                    },
                    {
                      "name": "nutrition_data_prepared_per",
                      "type": "string"
                    },
                    {
                      "name": "energy-kj_value",
                      "type": "number"
                    },
                    {
                      "name": "energy-kj_unit",
                      "type": "string"
                    },
                    {
                      "name": "energy-kcal_value",
                      "type": "number"
                    },
                    {
                      "name": "energy-kcal_unit",
                      "type": "string"
                    },
                    {
                      "name": "fat_value",
                      "type": "number"
                    },
                    {
                      "name": "fat_unit",
                      "type": "string"
                    },
                    {
                      "name": "saturated-fat_value",
                      "type": "number"
                    },
                    {
                      "name": "saturated-fat_unit",
                      "type": "string"
                    },
                    {
                      "name": "carbohydrates_value",
                      "type": "number"
                    },
                    {
                      "name": "carbohydrates_unit",
                      "type": "string"
                    },
                    {
                      "name": "sugars_value",
                      "type": "number"
                    },
                    {
                      "name": "sugars_unit",
                      "type": "string"
                    },
                    {
                      "name": "fiber_value",
                      "type": "number"
                    },
                    {
                      "name": "fiber_unit",
                      "type": "string"
                    },
                    {
                      "name": "proteins_value",
                      "type": "number"
                    },
                    {
                      "name": "proteins_unit",
                      "type": "string"
                    },
                    {
                      "name": "salt_value",
                      "type": "number"
                    },
                    {
                      "name": "salt_unit",
                      "type": "string"
                    },
                    {
                      "name": "sodium_value",
                      "type": "number"
                    },
                    {
                      "name": "sodium_unit",
                      "type": "string"
                    },
                    {
                      "name": "alcohol_value",
                      "type": "number"
                    },
                    {
                      "name": "alcohol_unit",
                      "type": "string"
                    },
                    {
                      "name": "energy_value",
                      "type": "number"
                    },
                    {
                      "name": "energy_unit",
                      "type": "string"
                    },
                    {
                      "name": "energy-from-fat_value",
                      "type": "number"
                    },
                    {
                      "name": "energy-from-fat_unit",
                      "type": "string"
                    },
                    {
                      "name": "monounsaturated-fat_value",
                      "type": "number"
                    },
                    {
                      "name": "monounsaturated-fat_unit",
                      "type": "string"
                    },
                    {
                      "name": "polyunsaturated-fat_value",
                      "type": "number"
                    },
                    {
                      "name": "polyunsaturated-fat_unit",
                      "type": "string"
                    },
                    {
                      "name": "omega-3-fat_value",
                      "type": "number"
                    },
                    {
                      "name": "omega-3-fat_unit",
                      "type": "string"
                    },
                    {
                      "name": "omega-6-fat_value",
                      "type": "number"
                    },
                    {
                      "name": "omega-6-fat_unit",
                      "type": "string"
                    },
                    {
                      "name": "omega-9-fat_value",
                      "type": "number"
                    },
                    {
                      "name": "omega-9-fat_unit",
                      "type": "string"
                    },
                    {
                      "name": "trans-fat_value",
                      "type": "number"
                    },
                    {
                      "name": "trans-fat_unit",
                      "type": "string"
                    },
                    {
                      "name": "cholesterol_value",
                      "type": "number"
                    },
                    {
                      "name": "cholesterol_unit",
                      "type": "string"
                    },
                    {
                      "name": "soluble-fiber_value",
                      "type": "number"
                    },
                    {
                      "name": "soluble-fiber_unit",
                      "type": "string"
                    },
                    {
                      "name": "insoluble-fiber_value",
                      "type": "number"
                    },
                    {
                      "name": "insoluble-fiber_unit",
                      "type": "string"
                    },
                    {
                      "name": "vitamin-a_value",
                      "type": "number"
                    },
                    {
                      "name": "vitamin-a_unit",
                      "type": "string"
                    },
                    {
                      "name": "vitamin-d_value",
                      "type": "number"
                    },
                    {
                      "name": "vitamin-d_unit",
                      "type": "string"
                    },
                    {
                      "name": "vitamin-e_value",
                      "type": "number"
                    },
                    {
                      "name": "vitamin-e_unit",
                      "type": "string"
                    },
                    {
                      "name": "vitamin-k_value",
                      "type": "number"
                    },
                    {
                      "name": "vitamin-k_unit",
                      "type": "string"
                    },
                    {
                      "name": "vitamin-c_value",
                      "type": "number"
                    },
                    {
                      "name": "vitamin-c_unit",
                      "type": "string"
                    },
                    {
                      "name": "vitamin-b1_value",
                      "type": "number"
                    },
                    {
                      "name": "vitamin-b1_unit",
                      "type": "string"
                    },
                    {
                      "name": "vitamin-b2_value",
                      "type": "number"
                    },
                    {
                      "name": "vitamin-b2_unit",
                      "type": "string"
                    },
                    {
                      "name": "vitamin-pp_value",
                      "type": "number"
                    },
                    {
                      "name": "vitamin-pp_unit",
                      "type": "string"
                    },
                    {
                      "name": "vitamin-b6_value",
                      "type": "number"
                    },
                    {
                      "name": "vitamin-b6_unit",
                      "type": "string"
                    },
                    {
                      "name": "vitamin-b9_value",
                      "type": "number"
                    },
                    {
                      "name": "vitamin-b9_unit",
                      "type": "string"
                    },
                    {
                      "name": "folates_value",
                      "type": "number"
                    },
                    {
                      "name": "folates_unit",
                      "type": "string"
                    },
                    {
                      "name": "vitamin-b12_value",
                      "type": "number"
                    },
                    {
                      "name": "vitamin-b12_unit",
                      "type": "string"
                    },
                    {
                      "name": "pantothenic-acid_value",
                      "type": "number"
                    },
                    {
                      "name": "pantothenic-acid_unit",
                      "type": "string"
                    },
                    {
                      "name": "potassium_value",
                      "type": "number"
                    },
                    {
                      "name": "potassium_unit",
                      "type": "string"
                    },
                    {
                      "name": "calcium_value",
                      "type": "number"
                    },
                    {
                      "name": "calcium_unit",
                      "type": "string"
                    },
                    {
                      "name": "phosphorus_value",
                      "type": "number"
                    },
                    {
                      "name": "phosphorus_unit",
                      "type": "string"
                    },
                    {
                      "name": "iron_value",
                      "type": "number"
                    },
                    {
                      "name": "iron_unit",
                      "type": "string"
                    },
                    {
                      "name": "magnesium_value",
                      "type": "number"
                    },
                    {
                      "name": "magnesium_unit",
                      "type": "string"
                    },
                    {
                      "name": "zinc_value",
                      "type": "number"
                    },
                    {
                      "name": "zinc_unit",
                      "type": "string"
                    },
                    {
                      "name": "copper_value",
                      "type": "number"
                    },
                    {
                      "name": "copper_unit",
                      "type": "string"
                    },
                    {
                      "name": "manganese_value",
                      "type": "number"
                    },
                    {
                      "name": "manganese_unit",
                      "type": "string"
                    },
                    {
                      "name": "selenium_value",
                      "type": "number"
                    },
                    {
                      "name": "selenium_unit",
                      "type": "string"
                    },
                    {
                      "name": "fruits-vegetables-nuts_value",
                      "type": "number"
                    },
                    {
                      "name": "fruits-vegetables-nuts_unit",
                      "type": "number"
                    },
                    {
                      "name": "phylloquinone_value",
                      "type": "number"
                    },
                    {
                      "name": "phylloquinone_unit",
                      "type": "string"
                    },
                    {
                      "name": "link",
                      "type": "string"
                    },
                    {
                      "name": "off:food_groups",
                      "type": "string"
                    },
                    {
                      "name": "off:food_groups_tags",
                      "type": "string"
                    },
                    {
                      "name": "off:nova_groups",
                      "type": "number"
                    },
                    {
                      "name": "off:nova_groups_tags",
                      "type": "string"
                    },
                    {
                      "name": "off:nutriscore_grade",
                      "type": "string"
                    },
                    {
                      "name": "off:nutriscore_score",
                      "type": "number"
                    },
                    {
                      "name": "off:ecoscore_grade",
                      "type": "string"
                    },
                    {
                      "name": "off:ecoscore_score",
                      "type": "number"
                    },
                    {
                      "name": "off:ecoscore_data.missing_key_data",
                      "type": "number"
                    },
                    {
                      "name": "off:ecoscore_data.agribalyse.code",
                      "type": "number"
                    },
                    {
                      "name": "off:ecoscore_data.adjustments.origins_of_ingredients.value",
                      "type": "number"
                    },
                    {
                      "name": "off:ecoscore_data.adjustments.packaging.value",
                      "type": "number"
                    },
                    {
                      "name": "off:ecoscore_data.adjustments.packaging.non_recyclable_and_non_biodegradable_materials",
                      "type": "number"
                    },
                    {
                      "name": "off:ecoscore_data.adjustments.production_system.value",
                      "type": "number"
                    },
                    {
                      "name": "off:ecoscore_data.adjustments.threatened_species.value",
                      "type": "number"
                    },
                    {
                      "name": "sources_fields:org-database-usda:available_date",
                      "type": "string"
                    },
                    {
                      "name": "sources_fields:org-database-usda:fdc_category",
                      "type": "string"
                    },
                    {
                      "name": "sources_fields:org-database-usda:fdc_data_source",
                      "type": "string"
                    },
                    {
                      "name": "sources_fields:org-database-usda:fdc_id",
                      "type": "number"
                    },
                    {
                      "name": "sources_fields:org-database-usda:modified_date",
                      "type": "string"
                    },
                    {
                      "name": "sources_fields:org-database-usda:publication_date",
                      "type": "string"
                    },
                    {
                      "name": "data_sources",
                      "type": "string"
                    }
                  ],
                  "primaryKey": [
                    "index"
                  ],
                  "pandas_version": "1.4.0"
                },
                "data": {
                  "index": [
                    0,
                    1,
                    2,
                    3,
                    4
                  ],
                  "code": [
                    "0059749979702",
                    "7610095131409",
                    "4005514005578",
                    "0879890002513",
                    "0223086613685"
                  ],
                  "lc": [
                    "fr",
                    "en",
                    "en",
                    "en",
                    "en"
                  ],
                  "product_name_de": [
                    null,
                    null,
                    null,
                    null,
                    null
                  ],
                  "product_name_el": [
                    null,
                    null,
                    null,
                    null,
                    null
                  ],
                  "product_name_en": [
                    null,
                    null,
                    "Gelbe Linse Avocado Brotaufstrich",
                    "Avocado toast chili lime",
                    "Avocado"
                  ],
                  "product_name_es": [
                    null,
                    null,
                    null,
                    null,
                    null
                  ],
                  "product_name_fi": [
                    null,
                    null,
                    null,
                    null,
                    null
                  ],
                  "product_name_fr": [
                    "Naturalia Avocado Oil",
                    "Avocado Bowl chips",
                    null,
                    null,
                    null
                  ],
                  "product_name_id": [
                    null,
                    null,
                    null,
                    null,
                    null
                  ],
                  "product_name_it": [
                    null,
                    null,
                    null,
                    null,
                    null
                  ],
                  "product_name_lt": [
                    null,
                    null,
                    null,
                    null,
                    null
                  ],
                  "product_name_lv": [
                    null,
                    null,
                    null,
                    null,
                    null
                  ],
                  "product_name_nb": [
                    null,
                    null,
                    null,
                    null,
                    null
                  ],
                  "product_name_nl": [
                    null,
                    null,
                    null,
                    null,
                    null
                  ],
                  "product_name_pl": [
                    null,
                    null,
                    null,
                    null,
                    null
                  ],
                  "product_name_ro": [
                    null,
                    null,
                    null,
                    null,
                    null
                  ],
                  "product_name_sl": [
                    null,
                    null,
                    null,
                    null,
                    null
                  ],
                  "product_name_sv": [
                    null,
                    null,
                    null,
                    null,
                    null
                  ],
                  "generic_name_de": [
                    null,
                    null,
                    null,
                    null,
                    null
                  ],
                  "generic_name_en": [
                    null,
                    null,
                    null,
                    null,
                    null
                  ],
                  "generic_name_es": [
                    null,
                    null,
                    null,
                    null,
                    null
                  ],
                  "generic_name_fr": [
                    null,
                    null,
                    null,
                    null,
                    null
                  ],
                  "generic_name_sv": [
                    null,
                    null,
                    null,
                    null,
                    null
                  ],
                  "quantity": [
                    null,
                    null,
                    null,
                    null,
                    null
                  ],
                  "serving_size": [
                    null,
                    null,
                    null,
                    null,
                    null
                  ],
                  "packaging": [
                    null,
                    null,
                    null,
                    null,
                    null
                  ],
                  "packaging_tags": [
                    null,
                    null,
                    null,
                    null,
                    null
                  ],
                  "brands": [
                    "Naturalia",
                    "Zweifel",
                    "Tartex",
                    null,
                    null
                  ],
                  "brands_tags": [
                    "naturalia",
                    "zweifel",
                    "tartex",
                    null,
                    null
                  ],
                  "brand_owner": [
                    null,
                    null,
                    null,
                    null,
                    null
                  ],
                  "categories": [
                    "Aliments et boissons à base de végétaux, Aliments d'origine végétale, Matières grasses, Matières grasses végétales, Huiles, Huiles de fruits et graines de fruits",
                    "Snacks, Salty snacks, Appetizers, Chips and fries, Crisps",
                    "de:Abendbrotsufstrich",
                    null,
                    null
                  ],
                  "categories_tags": [
                    "en:plant-based-foods-and-beverages,en:plant-based-foods,en:fats,en:vegetable-fats,en:vegetable-oils,en:fruit-and-fruit-seed-oils",
                    "en:snacks,en:salty-snacks,en:appetizers,en:chips-and-fries,en:crisps",
                    "de:abendbrotsufstrich",
                    null,
                    null
                  ],
                  "labels": [
                    null,
                    "Vegetarian, Vegan",
                    "Organic, EU Organic, EG-Öko-Verordnung",
                    null,
                    null
                  ],
                  "labels_tags": [
                    null,
                    "en:vegetarian,en:vegan",
                    "en:organic,en:eu-organic,en:eg-oko-verordnung",
                    null,
                    null
                  ],
                  "countries": [
                    "Canada",
                    "Switzerland, World",
                    "Germany",
                    "United States",
                    "United States"
                  ],
                  "countries_tags": [
                    "en:canada",
                    "en:switzerland,en:world",
                    "en:germany",
                    "en:united-states",
                    "en:united-states"
                  ],
                  "stores": [
                    null,
                    null,
                    null,
                    null,
                    null
                  ],
                  "stores_tags": [
                    null,
                    null,
                    null,
                    null,
                    null
                  ],
                  "obsolete": [
                    0,
                    1,
                    0,
                    0,
                    0
                  ],
                  "obsolete_since_date": [
                    null,
                    "2023/03/21",
                    null,
                    null,
                    null
                  ],
                  "origins": [
                    null,
                    null,
                    null,
                    null,
                    null
                  ],
                  "origins_tags": [
                    null,
                    null,
                    null,
                    null,
                    null
                  ],
                  "origin_en": [
                    null,
                    null,
                    null,
                    null,
                    null
                  ],
                  "origin_fr": [
                    null,
                    null,
                    null,
                    null,
                    null
                  ],
                  "manufacturing_places": [
                    null,
                    null,
                    null,
                    null,
                    null
                  ],
                  "manufacturing_places_tags": [
                    null,
                    null,
                    null,
                    null,
                    null
                  ],
                  "emb_codes": [
                    null,
                    null,
                    null,
                    null,
                    null
                  ],
                  "emb_codes_tags": [
                    null,
                    null,
                    null,
                    null,
                    null
                  ],
                  "ingredients_text_de": [
                    null,
                    null,
                    null,
                    null,
                    null
                  ],
                  "ingredients_text_en": [
                    null,
                    null,
                    null,
                    "rice flour potato starch, chili line seasoning maltodextrin, spices (chile pepper, red pepper), sugar, citre juice powder maltodextrin, lime juice solids, lime oil), yeast extract, union powder, garlic powder, crystallized lime (citric acid, lime oil, lime juicej, natural flavors, extractives of paprika (color), sunflower oil), avocado oil, avocado powder (avocado, maltodextrin, modified potato starch, citric acid,  ascorbic acid (to preserve freshness) tocopherols (to preserve freshness spinach powder (color), dried onion, poppy seeds, rolled oats, sesame seeds, garlic powder, flax seeds, millet, natural flavor, &quot;adds a trimal amount of saturated fat, contains: sesame th foods, inc,, 2134 harlem rd,, loves park, il 61111 questions or comments? call us toll free at 1-888-574-7737 or visit crunchmaster,com m 0% 2% 0% ^ bacon , ear mi a inc les a ci certi glu free gfco,or u",
                    null
                  ],
                  "ingredients_text_es": [
                    null,
                    null,
                    null,
                    null,
                    null
                  ],
                  "ingredients_text_fi": [
                    null,
                    null,
                    null,
                    null,
                    null
                  ],
                  "ingredients_text_fr": [
                    null,
                    null,
                    null,
                    null,
                    null
                  ],
                  "ingredients_text_id": [
                    null,
                    null,
                    null,
                    null,
                    null
                  ],
                  "ingredients_text_it": [
                    null,
                    null,
                    null,
                    null,
                    null
                  ],
                  "ingredients_text_lt": [
                    null,
                    null,
                    null,
                    null,
                    null
                  ],
                  "ingredients_text_lv": [
                    null,
                    null,
                    null,
                    null,
                    null
                  ],
                  "ingredients_text_nb": [
                    null,
                    null,
                    null,
                    null,
                    null
                  ],
                  "ingredients_text_nl": [
                    null,
                    null,
                    null,
                    null,
                    null
                  ],
                  "ingredients_text_pl": [
                    null,
                    null,
                    null,
                    null,
                    null
                  ],
                  "ingredients_text_ro": [
                    null,
                    null,
                    null,
                    null,
                    null
                  ],
                  "ingredients_text_sv": [
                    null,
                    null,
                    null,
                    null,
                    null
                  ],
                  "allergens": [
                    null,
                    null,
                    null,
                    "Sesame seeds",
                    null
                  ],
                  "allergens_tags": [
                    null,
                    null,
                    null,
                    "en:sesame-seeds",
                    null
                  ],
                  "traces": [
                    null,
                    null,
                    null,
                    null,
                    null
                  ],
                  "traces_tags": [
                    null,
                    null,
                    null,
                    null,
                    null
                  ],
                  "no_nutrition_data": [
                    null,
                    null,
                    null,
                    null,
                    null
                  ],
                  "nutrition_data_per": [
                    "100g",
                    "100g",
                    "100g",
                    "100g",
                    "100g"
                  ],
                  "nutrition_data_prepared_per": [
                    "100g",
                    "100g",
                    "100g",
                    "100g",
                    "100g"
                  ],
                  "energy-kj_value": [
                    null,
                    null,
                    null,
                    null,
                    null
                  ],
                  "energy-kj_unit": [
                    null,
                    null,
                    null,
                    null,
                    null
                  ],
                  "energy-kcal_value": [
                    100,
                    479,
                    151,
                    433.3333333333,
                    null
                  ],
                  "energy-kcal_unit": [
                    "kcal",
                    "kcal",
                    "kcal",
                    "kcal",
                    null
                  ],
                  "fat_value": [
                    100,
                    24,
                    8.7,
                    8.3333333333,
                    null
                  ],
                  "fat_unit": [
                    "g",
                    "g",
                    "g",
                    "g",
                    null
                  ],
                  "saturated-fat_value": [
                    0,
                    1.7,
                    0.8,
                    0,
                    null
                  ],
                  "saturated-fat_unit": [
                    "g",
                    "g",
                    "g",
                    "g",
                    null
                  ],
                  "carbohydrates_value": [
                    0,
                    56,
                    12,
                    76.6666666667,
                    null
                  ],
                  "carbohydrates_unit": [
                    "g",
                    "g",
                    "g",
                    "g",
                    null
                  ],
                  "sugars_value": [
                    0,
                    3.2,
                    4.7,
                    3.3333333333,
                    null
                  ],
                  "sugars_unit": [
                    "g",
                    "g",
                    "g",
                    "g",
                    null
                  ],
                  "fiber_value": [
                    0,
                    6.5,
                    4.6,
                    3.3333333333,
                    null
                  ],
                  "fiber_unit": [
                    "g",
                    "g",
                    "g",
                    "g",
                    null
                  ],
                  "proteins_value": [
                    0,
                    6.8,
                    3.9,
                    6.6666666667,
                    null
                  ],
                  "proteins_unit": [
                    "g",
                    "g",
                    "g",
                    "g",
                    null
                  ],
                  "salt_value": [
                    0,
                    1.7,
                    0.94,
                    1.5833333333,
                    null
                  ],
                  "salt_unit": [
                    "g",
                    "g",
                    "g",
                    "g",
                    null
                  ],
                  "sodium_value": [
                    0,
                    0.68,
                    0.376,
                    0.6333333333,
                    null
                  ],
                  "sodium_unit": [
                    "g",
                    "g",
                    "g",
                    "g",
                    null
                  ],
                  "alcohol_value": [
                    null,
                    null,
                    null,
                    null,
                    null
                  ],
                  "alcohol_unit": [
                    null,
                    null,
                    null,
                    null,
                    null
                  ],
                  "energy_value": [
                    100,
                    479,
                    151,
                    433.3333333333,
                    null
                  ],
                  "energy_unit": [
                    "kcal",
                    "kcal",
                    "kcal",
                    "kcal",
                    null
                  ],
                  "energy-from-fat_value": [
                    null,
                    null,
                    null,
                    null,
                    null
                  ],
                  "energy-from-fat_unit": [
                    null,
                    null,
                    null,
                    null,
                    null
                  ],
                  "monounsaturated-fat_value": [
                    null,
                    null,
                    null,
                    null,
                    null
                  ],
                  "monounsaturated-fat_unit": [
                    null,
                    null,
                    null,
                    null,
                    null
                  ],
                  "polyunsaturated-fat_value": [
                    null,
                    null,
                    null,
                    null,
                    null
                  ],
                  "polyunsaturated-fat_unit": [
                    null,
                    null,
                    null,
                    null,
                    null
                  ],
                  "omega-3-fat_value": [
                    null,
                    null,
                    null,
                    null,
                    null
                  ],
                  "omega-3-fat_unit": [
                    null,
                    null,
                    null,
                    null,
                    null
                  ],
                  "omega-6-fat_value": [
                    null,
                    null,
                    null,
                    null,
                    null
                  ],
                  "omega-6-fat_unit": [
                    null,
                    null,
                    null,
                    null,
                    null
                  ],
                  "omega-9-fat_value": [
                    null,
                    null,
                    null,
                    null,
                    null
                  ],
                  "omega-9-fat_unit": [
                    null,
                    null,
                    null,
                    null,
                    null
                  ],
                  "trans-fat_value": [
                    null,
                    null,
                    null,
                    null,
                    null
                  ],
                  "trans-fat_unit": [
                    null,
                    null,
                    null,
                    null,
                    null
                  ],
                  "cholesterol_value": [
                    null,
                    null,
                    null,
                    null,
                    null
                  ],
                  "cholesterol_unit": [
                    null,
                    null,
                    null,
                    null,
                    null
                  ],
                  "soluble-fiber_value": [
                    null,
                    null,
                    null,
                    null,
                    null
                  ],
                  "soluble-fiber_unit": [
                    null,
                    null,
                    null,
                    null,
                    null
                  ],
                  "insoluble-fiber_value": [
                    null,
                    null,
                    null,
                    null,
                    null
                  ],
                  "insoluble-fiber_unit": [
                    null,
                    null,
                    null,
                    null,
                    null
                  ],
                  "vitamin-a_value": [
                    null,
                    null,
                    null,
                    null,
                    null
                  ],
                  "vitamin-a_unit": [
                    null,
                    null,
                    null,
                    null,
                    null
                  ],
                  "vitamin-d_value": [
                    null,
                    null,
                    null,
                    null,
                    null
                  ],
                  "vitamin-d_unit": [
                    null,
                    null,
                    null,
                    null,
                    null
                  ],
                  "vitamin-e_value": [
                    null,
                    null,
                    null,
                    null,
                    null
                  ],
                  "vitamin-e_unit": [
                    null,
                    null,
                    null,
                    null,
                    null
                  ],
                  "vitamin-k_value": [
                    null,
                    null,
                    null,
                    null,
                    null
                  ],
                  "vitamin-k_unit": [
                    null,
                    null,
                    null,
                    null,
                    null
                  ],
                  "vitamin-c_value": [
                    null,
                    null,
                    null,
                    null,
                    null
                  ],
                  "vitamin-c_unit": [
                    null,
                    null,
                    null,
                    null,
                    null
                  ],
                  "vitamin-b1_value": [
                    null,
                    null,
                    null,
                    null,
                    null
                  ],
                  "vitamin-b1_unit": [
                    null,
                    null,
                    null,
                    null,
                    null
                  ],
                  "vitamin-b2_value": [
                    null,
                    null,
                    null,
                    null,
                    null
                  ],
                  "vitamin-b2_unit": [
                    null,
                    null,
                    null,
                    null,
                    null
                  ],
                  "vitamin-pp_value": [
                    null,
                    null,
                    null,
                    null,
                    null
                  ],
                  "vitamin-pp_unit": [
                    null,
                    null,
                    null,
                    null,
                    null
                  ],
                  "vitamin-b6_value": [
                    null,
                    null,
                    null,
                    null,
                    null
                  ],
                  "vitamin-b6_unit": [
                    null,
                    null,
                    null,
                    null,
                    null
                  ],
                  "vitamin-b9_value": [
                    null,
                    null,
                    null,
                    null,
                    null
                  ],
                  "vitamin-b9_unit": [
                    null,
                    null,
                    null,
                    null,
                    null
                  ],
                  "folates_value": [
                    null,
                    null,
                    null,
                    null,
                    null
                  ],
                  "folates_unit": [
                    null,
                    null,
                    null,
                    null,
                    null
                  ],
                  "vitamin-b12_value": [
                    null,
                    null,
                    null,
                    null,
                    null
                  ],
                  "vitamin-b12_unit": [
                    null,
                    null,
                    null,
                    null,
                    null
                  ],
                  "pantothenic-acid_value": [
                    null,
                    null,
                    null,
                    null,
                    null
                  ],
                  "pantothenic-acid_unit": [
                    null,
                    null,
                    null,
                    null,
                    null
                  ],
                  "potassium_value": [
                    null,
                    null,
                    null,
                    null,
                    null
                  ],
                  "potassium_unit": [
                    null,
                    null,
                    null,
                    null,
                    null
                  ],
                  "calcium_value": [
                    null,
                    null,
                    null,
                    null,
                    null
                  ],
                  "calcium_unit": [
                    null,
                    null,
                    null,
                    null,
                    null
                  ],
                  "phosphorus_value": [
                    null,
                    null,
                    null,
                    null,
                    null
                  ],
                  "phosphorus_unit": [
                    null,
                    null,
                    null,
                    null,
                    null
                  ],
                  "iron_value": [
                    null,
                    null,
                    null,
                    null,
                    null
                  ],
                  "iron_unit": [
                    null,
                    null,
                    null,
                    null,
                    null
                  ],
                  "magnesium_value": [
                    null,
                    null,
                    null,
                    null,
                    null
                  ],
                  "magnesium_unit": [
                    null,
                    null,
                    null,
                    null,
                    null
                  ],
                  "zinc_value": [
                    null,
                    null,
                    null,
                    null,
                    null
                  ],
                  "zinc_unit": [
                    null,
                    null,
                    null,
                    null,
                    null
                  ],
                  "copper_value": [
                    null,
                    null,
                    null,
                    null,
                    null
                  ],
                  "copper_unit": [
                    null,
                    null,
                    null,
                    null,
                    null
                  ],
                  "manganese_value": [
                    null,
                    null,
                    null,
                    null,
                    null
                  ],
                  "manganese_unit": [
                    null,
                    null,
                    null,
                    null,
                    null
                  ],
                  "selenium_value": [
                    null,
                    null,
                    null,
                    null,
                    null
                  ],
                  "selenium_unit": [
                    null,
                    null,
                    null,
                    null,
                    null
                  ],
                  "fruits-vegetables-nuts_value": [
                    null,
                    null,
                    null,
                    null,
                    null
                  ],
                  "fruits-vegetables-nuts_unit": [
                    null,
                    null,
                    null,
                    null,
                    null
                  ],
                  "phylloquinone_value": [
                    null,
                    null,
                    null,
                    null,
                    null
                  ],
                  "phylloquinone_unit": [
                    null,
                    null,
                    null,
                    null,
                    null
                  ],
                  "link": [
                    null,
                    null,
                    null,
                    null,
                    null
                  ],
                  "off:food_groups": [
                    "en:fats",
                    "en:appetizers",
                    null,
                    null,
                    null
                  ],
                  "off:food_groups_tags": [
                    "en:fats-and-sauces,en:fats",
                    "en:salty-snacks,en:appetizers",
                    null,
                    null,
                    null
                  ],
                  "off:nova_groups": [
                    2,
                    null,
                    null,
                    4,
                    null
                  ],
                  "off:nova_groups_tags": [
                    "en:2-processed-culinary-ingredients",
                    "unknown",
                    "unknown",
                    "en:4-ultra-processed-food-and-drink-products",
                    "unknown"
                  ],
                  "off:nutriscore_grade": [
                    "b",
                    "c",
                    "b",
                    null,
                    null
                  ],
                  "off:nutriscore_score": [
                    1,
                    8,
                    0,
                    null,
                    null
                  ],
                  "off:ecoscore_grade": [
                    "unknown",
                    "unknown",
                    "unknown",
                    "unknown",
                    "unknown"
                  ],
                  "off:ecoscore_score": [
                    null,
                    null,
                    null,
                    null,
                    null
                  ],
                  "off:ecoscore_data.missing_key_data": [
                    1,
                    1,
                    1,
                    1,
                    1
                  ],
                  "off:ecoscore_data.agribalyse.code": [
                    null,
                    null,
                    null,
                    null,
                    null
                  ],
                  "off:ecoscore_data.adjustments.origins_of_ingredients.value": [
                    -5,
                    -5,
                    -5,
                    -5,
                    -5
                  ],
                  "off:ecoscore_data.adjustments.packaging.value": [
                    -15,
                    -15,
                    -15,
                    -15,
                    -15
                  ],
                  "off:ecoscore_data.adjustments.packaging.non_recyclable_and_non_biodegradable_materials": [
                    1,
                    1,
                    1,
                    1,
                    1
                  ],
                  "off:ecoscore_data.adjustments.production_system.value": [
                    0,
                    0,
                    15,
                    0,
                    0
                  ],
                  "off:ecoscore_data.adjustments.threatened_species.value": [
                    null,
                    null,
                    null,
                    null,
                    null
                  ],
                  "sources_fields:org-database-usda:available_date": [
                    null,
                    null,
                    null,
                    null,
                    null
                  ],
                  "sources_fields:org-database-usda:fdc_category": [
                    null,
                    null,
                    null,
                    null,
                    null
                  ],
                  "sources_fields:org-database-usda:fdc_data_source": [
                    null,
                    null,
                    null,
                    null,
                    null
                  ],
                  "sources_fields:org-database-usda:fdc_id": [
                    null,
                    null,
                    null,
                    null,
                    null
                  ],
                  "sources_fields:org-database-usda:modified_date": [
                    null,
                    null,
                    null,
                    null,
                    null
                  ],
                  "sources_fields:org-database-usda:publication_date": [
                    null,
                    null,
                    null,
                    null,
                    null
                  ],
                  "data_sources": [
                    "App - yuka, Apps",
                    "App - Yuka, Apps, Producers, Producer - zweifel",
                    "App - yuka, Apps, App - smoothie-openfoodfacts",
                    "App - Yuka, Apps, App - InFood",
                    "App - Yuka, Apps"
                  ]
                }
              },
              "total_rows": 5,
              "truncation_type": null
            },
            "text/plain": "            code  ...                                     data_sources\n0  0059749979702  ...                                 App - yuka, Apps\n1  7610095131409  ...  App - Yuka, Apps, Producers, Producer - zweifel\n2  4005514005578  ...   App - yuka, Apps, App - smoothie-openfoodfacts\n3  0879890002513  ...                   App - Yuka, Apps, App - InFood\n4  0223086613685  ...                                 App - Yuka, Apps\n\n[5 rows x 184 columns]",
            "text/html": "<div>\n<style scoped>\n    .dataframe tbody tr th:only-of-type {\n        vertical-align: middle;\n    }\n\n    .dataframe tbody tr th {\n        vertical-align: top;\n    }\n\n    .dataframe thead th {\n        text-align: right;\n    }\n</style>\n<table border=\"1\" class=\"dataframe\">\n  <thead>\n    <tr style=\"text-align: right;\">\n      <th></th>\n      <th>code</th>\n      <th>lc</th>\n      <th>product_name_de</th>\n      <th>product_name_el</th>\n      <th>product_name_en</th>\n      <th>product_name_es</th>\n      <th>product_name_fi</th>\n      <th>product_name_fr</th>\n      <th>product_name_id</th>\n      <th>product_name_it</th>\n      <th>product_name_lt</th>\n      <th>product_name_lv</th>\n      <th>product_name_nb</th>\n      <th>product_name_nl</th>\n      <th>product_name_pl</th>\n      <th>product_name_ro</th>\n      <th>product_name_sl</th>\n      <th>product_name_sv</th>\n      <th>generic_name_de</th>\n      <th>generic_name_en</th>\n      <th>generic_name_es</th>\n      <th>generic_name_fr</th>\n      <th>generic_name_sv</th>\n      <th>quantity</th>\n      <th>serving_size</th>\n      <th>packaging</th>\n      <th>packaging_tags</th>\n      <th>brands</th>\n      <th>brands_tags</th>\n      <th>brand_owner</th>\n      <th>categories</th>\n      <th>categories_tags</th>\n      <th>labels</th>\n      <th>labels_tags</th>\n      <th>countries</th>\n      <th>countries_tags</th>\n      <th>stores</th>\n      <th>stores_tags</th>\n      <th>obsolete</th>\n      <th>obsolete_since_date</th>\n      <th>...</th>\n      <th>phosphorus_unit</th>\n      <th>iron_value</th>\n      <th>iron_unit</th>\n      <th>magnesium_value</th>\n      <th>magnesium_unit</th>\n      <th>zinc_value</th>\n      <th>zinc_unit</th>\n      <th>copper_value</th>\n      <th>copper_unit</th>\n      <th>manganese_value</th>\n      <th>manganese_unit</th>\n      <th>selenium_value</th>\n      <th>selenium_unit</th>\n      <th>fruits-vegetables-nuts_value</th>\n      <th>fruits-vegetables-nuts_unit</th>\n      <th>phylloquinone_value</th>\n      <th>phylloquinone_unit</th>\n      <th>link</th>\n      <th>off:food_groups</th>\n      <th>off:food_groups_tags</th>\n      <th>off:nova_groups</th>\n      <th>off:nova_groups_tags</th>\n      <th>off:nutriscore_grade</th>\n      <th>off:nutriscore_score</th>\n      <th>off:ecoscore_grade</th>\n      <th>off:ecoscore_score</th>\n      <th>off:ecoscore_data.missing_key_data</th>\n      <th>off:ecoscore_data.agribalyse.code</th>\n      <th>off:ecoscore_data.adjustments.origins_of_ingredients.value</th>\n      <th>off:ecoscore_data.adjustments.packaging.value</th>\n      <th>off:ecoscore_data.adjustments.packaging.non_recyclable_and_non_biodegradable_materials</th>\n      <th>off:ecoscore_data.adjustments.production_system.value</th>\n      <th>off:ecoscore_data.adjustments.threatened_species.value</th>\n      <th>sources_fields:org-database-usda:available_date</th>\n      <th>sources_fields:org-database-usda:fdc_category</th>\n      <th>sources_fields:org-database-usda:fdc_data_source</th>\n      <th>sources_fields:org-database-usda:fdc_id</th>\n      <th>sources_fields:org-database-usda:modified_date</th>\n      <th>sources_fields:org-database-usda:publication_date</th>\n      <th>data_sources</th>\n    </tr>\n  </thead>\n  <tbody>\n    <tr>\n      <th>0</th>\n      <td>0059749979702</td>\n      <td>fr</td>\n      <td>NaN</td>\n      <td>NaN</td>\n      <td>NaN</td>\n      <td>NaN</td>\n      <td>NaN</td>\n      <td>Naturalia Avocado Oil</td>\n      <td>NaN</td>\n      <td>NaN</td>\n      <td>NaN</td>\n      <td>NaN</td>\n      <td>NaN</td>\n      <td>NaN</td>\n      <td>NaN</td>\n      <td>NaN</td>\n      <td>NaN</td>\n      <td>NaN</td>\n      <td>NaN</td>\n      <td>NaN</td>\n      <td>NaN</td>\n      <td>NaN</td>\n      <td>NaN</td>\n      <td>NaN</td>\n      <td>NaN</td>\n      <td>NaN</td>\n      <td>NaN</td>\n      <td>Naturalia</td>\n      <td>naturalia</td>\n      <td>NaN</td>\n      <td>Aliments et boissons à base de végétaux, Alime...</td>\n      <td>en:plant-based-foods-and-beverages,en:plant-ba...</td>\n      <td>NaN</td>\n      <td>NaN</td>\n      <td>Canada</td>\n      <td>en:canada</td>\n      <td>NaN</td>\n      <td>NaN</td>\n      <td>0</td>\n      <td>NaN</td>\n      <td>...</td>\n      <td>NaN</td>\n      <td>NaN</td>\n      <td>NaN</td>\n      <td>NaN</td>\n      <td>NaN</td>\n      <td>NaN</td>\n      <td>NaN</td>\n      <td>NaN</td>\n      <td>NaN</td>\n      <td>NaN</td>\n      <td>NaN</td>\n      <td>NaN</td>\n      <td>NaN</td>\n      <td>NaN</td>\n      <td>NaN</td>\n      <td>NaN</td>\n      <td>NaN</td>\n      <td>NaN</td>\n      <td>en:fats</td>\n      <td>en:fats-and-sauces,en:fats</td>\n      <td>2.0</td>\n      <td>en:2-processed-culinary-ingredients</td>\n      <td>b</td>\n      <td>1.0</td>\n      <td>unknown</td>\n      <td>NaN</td>\n      <td>1.0</td>\n      <td>NaN</td>\n      <td>-5.0</td>\n      <td>-15.0</td>\n      <td>1.0</td>\n      <td>0.0</td>\n      <td>NaN</td>\n      <td>NaN</td>\n      <td>NaN</td>\n      <td>NaN</td>\n      <td>NaN</td>\n      <td>NaN</td>\n      <td>NaN</td>\n      <td>App - yuka, Apps</td>\n    </tr>\n    <tr>\n      <th>1</th>\n      <td>7610095131409</td>\n      <td>en</td>\n      <td>NaN</td>\n      <td>NaN</td>\n      <td>NaN</td>\n      <td>NaN</td>\n      <td>NaN</td>\n      <td>Avocado Bowl chips</td>\n      <td>NaN</td>\n      <td>NaN</td>\n      <td>NaN</td>\n      <td>NaN</td>\n      <td>NaN</td>\n      <td>NaN</td>\n      <td>NaN</td>\n      <td>NaN</td>\n      <td>NaN</td>\n      <td>NaN</td>\n      <td>NaN</td>\n      <td>NaN</td>\n      <td>NaN</td>\n      <td>NaN</td>\n      <td>NaN</td>\n      <td>NaN</td>\n      <td>NaN</td>\n      <td>NaN</td>\n      <td>NaN</td>\n      <td>Zweifel</td>\n      <td>zweifel</td>\n      <td>NaN</td>\n      <td>Snacks, Salty snacks, Appetizers, Chips and fr...</td>\n      <td>en:snacks,en:salty-snacks,en:appetizers,en:chi...</td>\n      <td>Vegetarian, Vegan</td>\n      <td>en:vegetarian,en:vegan</td>\n      <td>Switzerland, World</td>\n      <td>en:switzerland,en:world</td>\n      <td>NaN</td>\n      <td>NaN</td>\n      <td>1</td>\n      <td>2023/03/21</td>\n      <td>...</td>\n      <td>NaN</td>\n      <td>NaN</td>\n      <td>NaN</td>\n      <td>NaN</td>\n      <td>NaN</td>\n      <td>NaN</td>\n      <td>NaN</td>\n      <td>NaN</td>\n      <td>NaN</td>\n      <td>NaN</td>\n      <td>NaN</td>\n      <td>NaN</td>\n      <td>NaN</td>\n      <td>NaN</td>\n      <td>NaN</td>\n      <td>NaN</td>\n      <td>NaN</td>\n      <td>NaN</td>\n      <td>en:appetizers</td>\n      <td>en:salty-snacks,en:appetizers</td>\n      <td>NaN</td>\n      <td>unknown</td>\n      <td>c</td>\n      <td>8.0</td>\n      <td>unknown</td>\n      <td>NaN</td>\n      <td>1.0</td>\n      <td>NaN</td>\n      <td>-5.0</td>\n      <td>-15.0</td>\n      <td>1.0</td>\n      <td>0.0</td>\n      <td>NaN</td>\n      <td>NaN</td>\n      <td>NaN</td>\n      <td>NaN</td>\n      <td>NaN</td>\n      <td>NaN</td>\n      <td>NaN</td>\n      <td>App - Yuka, Apps, Producers, Producer - zweifel</td>\n    </tr>\n    <tr>\n      <th>2</th>\n      <td>4005514005578</td>\n      <td>en</td>\n      <td>NaN</td>\n      <td>NaN</td>\n      <td>Gelbe Linse Avocado Brotaufstrich</td>\n      <td>NaN</td>\n      <td>NaN</td>\n      <td>NaN</td>\n      <td>NaN</td>\n      <td>NaN</td>\n      <td>NaN</td>\n      <td>NaN</td>\n      <td>NaN</td>\n      <td>NaN</td>\n      <td>NaN</td>\n      <td>NaN</td>\n      <td>NaN</td>\n      <td>NaN</td>\n      <td>NaN</td>\n      <td>NaN</td>\n      <td>NaN</td>\n      <td>NaN</td>\n      <td>NaN</td>\n      <td>NaN</td>\n      <td>NaN</td>\n      <td>NaN</td>\n      <td>NaN</td>\n      <td>Tartex</td>\n      <td>tartex</td>\n      <td>NaN</td>\n      <td>de:Abendbrotsufstrich</td>\n      <td>de:abendbrotsufstrich</td>\n      <td>Organic, EU Organic, EG-Öko-Verordnung</td>\n      <td>en:organic,en:eu-organic,en:eg-oko-verordnung</td>\n      <td>Germany</td>\n      <td>en:germany</td>\n      <td>NaN</td>\n      <td>NaN</td>\n      <td>0</td>\n      <td>NaN</td>\n      <td>...</td>\n      <td>NaN</td>\n      <td>NaN</td>\n      <td>NaN</td>\n      <td>NaN</td>\n      <td>NaN</td>\n      <td>NaN</td>\n      <td>NaN</td>\n      <td>NaN</td>\n      <td>NaN</td>\n      <td>NaN</td>\n      <td>NaN</td>\n      <td>NaN</td>\n      <td>NaN</td>\n      <td>NaN</td>\n      <td>NaN</td>\n      <td>NaN</td>\n      <td>NaN</td>\n      <td>NaN</td>\n      <td>NaN</td>\n      <td>NaN</td>\n      <td>NaN</td>\n      <td>unknown</td>\n      <td>b</td>\n      <td>0.0</td>\n      <td>unknown</td>\n      <td>NaN</td>\n      <td>1.0</td>\n      <td>NaN</td>\n      <td>-5.0</td>\n      <td>-15.0</td>\n      <td>1.0</td>\n      <td>15.0</td>\n      <td>NaN</td>\n      <td>NaN</td>\n      <td>NaN</td>\n      <td>NaN</td>\n      <td>NaN</td>\n      <td>NaN</td>\n      <td>NaN</td>\n      <td>App - yuka, Apps, App - smoothie-openfoodfacts</td>\n    </tr>\n    <tr>\n      <th>3</th>\n      <td>0879890002513</td>\n      <td>en</td>\n      <td>NaN</td>\n      <td>NaN</td>\n      <td>Avocado toast chili lime</td>\n      <td>NaN</td>\n      <td>NaN</td>\n      <td>NaN</td>\n      <td>NaN</td>\n      <td>NaN</td>\n      <td>NaN</td>\n      <td>NaN</td>\n      <td>NaN</td>\n      <td>NaN</td>\n      <td>NaN</td>\n      <td>NaN</td>\n      <td>NaN</td>\n      <td>NaN</td>\n      <td>NaN</td>\n      <td>NaN</td>\n      <td>NaN</td>\n      <td>NaN</td>\n      <td>NaN</td>\n      <td>NaN</td>\n      <td>NaN</td>\n      <td>NaN</td>\n      <td>NaN</td>\n      <td>NaN</td>\n      <td>NaN</td>\n      <td>NaN</td>\n      <td>NaN</td>\n      <td>NaN</td>\n      <td>NaN</td>\n      <td>NaN</td>\n      <td>United States</td>\n      <td>en:united-states</td>\n      <td>NaN</td>\n      <td>NaN</td>\n      <td>0</td>\n      <td>NaN</td>\n      <td>...</td>\n      <td>NaN</td>\n      <td>NaN</td>\n      <td>NaN</td>\n      <td>NaN</td>\n      <td>NaN</td>\n      <td>NaN</td>\n      <td>NaN</td>\n      <td>NaN</td>\n      <td>NaN</td>\n      <td>NaN</td>\n      <td>NaN</td>\n      <td>NaN</td>\n      <td>NaN</td>\n      <td>NaN</td>\n      <td>NaN</td>\n      <td>NaN</td>\n      <td>NaN</td>\n      <td>NaN</td>\n      <td>NaN</td>\n      <td>NaN</td>\n      <td>4.0</td>\n      <td>en:4-ultra-processed-food-and-drink-products</td>\n      <td>NaN</td>\n      <td>NaN</td>\n      <td>unknown</td>\n      <td>NaN</td>\n      <td>1.0</td>\n      <td>NaN</td>\n      <td>-5.0</td>\n      <td>-15.0</td>\n      <td>1.0</td>\n      <td>0.0</td>\n      <td>NaN</td>\n      <td>NaN</td>\n      <td>NaN</td>\n      <td>NaN</td>\n      <td>NaN</td>\n      <td>NaN</td>\n      <td>NaN</td>\n      <td>App - Yuka, Apps, App - InFood</td>\n    </tr>\n    <tr>\n      <th>4</th>\n      <td>0223086613685</td>\n      <td>en</td>\n      <td>NaN</td>\n      <td>NaN</td>\n      <td>Avocado</td>\n      <td>NaN</td>\n      <td>NaN</td>\n      <td>NaN</td>\n      <td>NaN</td>\n      <td>NaN</td>\n      <td>NaN</td>\n      <td>NaN</td>\n      <td>NaN</td>\n      <td>NaN</td>\n      <td>NaN</td>\n      <td>NaN</td>\n      <td>NaN</td>\n      <td>NaN</td>\n      <td>NaN</td>\n      <td>NaN</td>\n      <td>NaN</td>\n      <td>NaN</td>\n      <td>NaN</td>\n      <td>NaN</td>\n      <td>NaN</td>\n      <td>NaN</td>\n      <td>NaN</td>\n      <td>NaN</td>\n      <td>NaN</td>\n      <td>NaN</td>\n      <td>NaN</td>\n      <td>NaN</td>\n      <td>NaN</td>\n      <td>NaN</td>\n      <td>United States</td>\n      <td>en:united-states</td>\n      <td>NaN</td>\n      <td>NaN</td>\n      <td>0</td>\n      <td>NaN</td>\n      <td>...</td>\n      <td>NaN</td>\n      <td>NaN</td>\n      <td>NaN</td>\n      <td>NaN</td>\n      <td>NaN</td>\n      <td>NaN</td>\n      <td>NaN</td>\n      <td>NaN</td>\n      <td>NaN</td>\n      <td>NaN</td>\n      <td>NaN</td>\n      <td>NaN</td>\n      <td>NaN</td>\n      <td>NaN</td>\n      <td>NaN</td>\n      <td>NaN</td>\n      <td>NaN</td>\n      <td>NaN</td>\n      <td>NaN</td>\n      <td>NaN</td>\n      <td>NaN</td>\n      <td>unknown</td>\n      <td>NaN</td>\n      <td>NaN</td>\n      <td>unknown</td>\n      <td>NaN</td>\n      <td>1.0</td>\n      <td>NaN</td>\n      <td>-5.0</td>\n      <td>-15.0</td>\n      <td>1.0</td>\n      <td>0.0</td>\n      <td>NaN</td>\n      <td>NaN</td>\n      <td>NaN</td>\n      <td>NaN</td>\n      <td>NaN</td>\n      <td>NaN</td>\n      <td>NaN</td>\n      <td>App - Yuka, Apps</td>\n    </tr>\n  </tbody>\n</table>\n<p>5 rows × 184 columns</p>\n</div>"
          },
          "metadata": {
            "application/com.datacamp.data-table.v2+json": {
              "status": "success"
            }
          },
          "execution_count": 11
        }
      ],
      "execution_count": null
    },
    {
      "source": [
        "relevant_avocado_categories_csv = pd.read_csv('data/relevant_avocado_categories.txt', sep='\\t')\n",
        "relevant_avocado_categories_csv"
      ],
      "metadata": {
        "executionCancelledAt": null,
        "executionTime": null,
        "lastExecutedAt": null,
        "lastExecutedByKernel": null,
        "lastScheduledRunId": null,
        "lastSuccessfullyExecutedCode": null,
        "outputsMetadata": {
          "0": {
            "height": 356,
            "type": "dataFrame",
            "tableState": {
              "quickFilterText": "",
              "customFilter": {
                "const": {
                  "type": "boolean",
                  "valid": true,
                  "value": true
                },
                "id": "589c623a-63c3-4587-9c75-3a242d07e860",
                "nodeType": "const"
              }
            }
          }
        },
        "visualizeDataframe": false,
        "chartConfig": {
          "bar": {
            "hasRoundedCorners": true,
            "stacked": false
          },
          "type": "bar",
          "version": "v1"
        },
        "id": "a6d12b47-27a8-4f21-9f56-9e0fbd9b19c8",
        "outputId": "463289a4-9701-4c20-836a-f134990b1b42"
      },
      "cell_type": "code",
      "id": "a6d12b47-27a8-4f21-9f56-9e0fbd9b19c8",
      "outputs": [
        {
          "output_type": "execute_result",
          "data": {
            "application/com.datacamp.data-table.v2+json": {
              "table": {
                "schema": {
                  "fields": [
                    {
                      "name": "index",
                      "type": "integer"
                    },
                    {
                      "name": "en:avocadoes",
                      "type": "string"
                    }
                  ],
                  "primaryKey": [
                    "index"
                  ],
                  "pandas_version": "1.4.0"
                },
                "data": {
                  "index": [
                    0,
                    1,
                    2,
                    3,
                    4,
                    5,
                    6,
                    7,
                    8,
                    9
                  ],
                  "en:avocadoes": [
                    "en:avocados",
                    "en:fresh-foods",
                    "en:fresh-vegetables",
                    "en:fruchte",
                    "en:fruits",
                    "en:raw-green-avocados",
                    "en:tropical-fruits",
                    "en:tropische-fruchte",
                    "en:vegetables-based-foods",
                    "fr:hass-avocados"
                  ]
                }
              },
              "total_rows": 10,
              "truncation_type": null
            },
            "text/plain": "                en:avocadoes\n0                en:avocados\n1             en:fresh-foods\n2        en:fresh-vegetables\n3                 en:fruchte\n4                  en:fruits\n5      en:raw-green-avocados\n6         en:tropical-fruits\n7       en:tropische-fruchte\n8  en:vegetables-based-foods\n9           fr:hass-avocados",
            "text/html": "<div>\n<style scoped>\n    .dataframe tbody tr th:only-of-type {\n        vertical-align: middle;\n    }\n\n    .dataframe tbody tr th {\n        vertical-align: top;\n    }\n\n    .dataframe thead th {\n        text-align: right;\n    }\n</style>\n<table border=\"1\" class=\"dataframe\">\n  <thead>\n    <tr style=\"text-align: right;\">\n      <th></th>\n      <th>en:avocadoes</th>\n    </tr>\n  </thead>\n  <tbody>\n    <tr>\n      <th>0</th>\n      <td>en:avocados</td>\n    </tr>\n    <tr>\n      <th>1</th>\n      <td>en:fresh-foods</td>\n    </tr>\n    <tr>\n      <th>2</th>\n      <td>en:fresh-vegetables</td>\n    </tr>\n    <tr>\n      <th>3</th>\n      <td>en:fruchte</td>\n    </tr>\n    <tr>\n      <th>4</th>\n      <td>en:fruits</td>\n    </tr>\n    <tr>\n      <th>5</th>\n      <td>en:raw-green-avocados</td>\n    </tr>\n    <tr>\n      <th>6</th>\n      <td>en:tropical-fruits</td>\n    </tr>\n    <tr>\n      <th>7</th>\n      <td>en:tropische-fruchte</td>\n    </tr>\n    <tr>\n      <th>8</th>\n      <td>en:vegetables-based-foods</td>\n    </tr>\n    <tr>\n      <th>9</th>\n      <td>fr:hass-avocados</td>\n    </tr>\n  </tbody>\n</table>\n</div>"
          },
          "metadata": {
            "application/com.datacamp.data-table.v2+json": {
              "status": "success"
            }
          },
          "execution_count": 12
        }
      ],
      "execution_count": null
    },
    {
      "source": [
        "with open('data/relevant_avocado_categories.txt', \"r\") as file:\n",
        "    relevant_avocado_categories = file.read().splitlines()\n",
        "    file.close()\n",
        "\n",
        "relevant_avocado_categories"
      ],
      "metadata": {
        "executionCancelledAt": null,
        "executionTime": 48,
        "lastExecutedAt": 1738617150583,
        "lastExecutedByKernel": "001ecb78-15db-4ab7-a289-842d27ba2f24",
        "lastScheduledRunId": null,
        "lastSuccessfullyExecutedCode": "with open('data/relevant_avocado_categories.txt', \"r\") as file:\n    relevant_avocado_categories = file.read().splitlines()\n    file.close()\n\nrelevant_avocado_categories",
        "id": "038a4fc1-2033-4691-a895-a106ccf84ca3",
        "outputId": "b87dd1c8-f006-400b-cbae-f24589ecdf7c"
      },
      "cell_type": "code",
      "id": "038a4fc1-2033-4691-a895-a106ccf84ca3",
      "outputs": [
        {
          "output_type": "execute_result",
          "data": {
            "text/plain": "['en:avocadoes',\n 'en:avocados',\n 'en:fresh-foods',\n 'en:fresh-vegetables',\n 'en:fruchte',\n 'en:fruits',\n 'en:raw-green-avocados',\n 'en:tropical-fruits',\n 'en:tropische-fruchte',\n 'en:vegetables-based-foods',\n 'fr:hass-avocados']"
          },
          "metadata": {},
          "execution_count": 13
        }
      ],
      "execution_count": null
    },
    {
      "source": [
        "# Subset the avocado DataFrame to include only the relevant columns\n",
        "relevant_columns = ['code', 'lc', 'product_name_en', 'quantity', 'serving_size', 'packaging_tags', 'brands', 'brands_tags', 'categories_tags', 'labels_tags', 'countries', 'countries_tags', 'origins', 'origins_tags']\n",
        "avocado_subset = avocado[relevant_columns]\n",
        "avocado_subset.head()"
      ],
      "metadata": {
        "executionCancelledAt": null,
        "executionTime": 52,
        "lastExecutedAt": 1738617150635,
        "lastExecutedByKernel": "001ecb78-15db-4ab7-a289-842d27ba2f24",
        "lastScheduledRunId": null,
        "lastSuccessfullyExecutedCode": "# Subset the avocado DataFrame to include only the relevant columns\nrelevant_columns = ['code', 'lc', 'product_name_en', 'quantity', 'serving_size', 'packaging_tags', 'brands', 'brands_tags', 'categories_tags', 'labels_tags', 'countries', 'countries_tags', 'origins', 'origins_tags']\navocado_subset = avocado[relevant_columns]\navocado_subset.head()",
        "outputsMetadata": {
          "0": {
            "height": 262,
            "type": "dataFrame",
            "tableState": {
              "customFilter": {
                "const": {
                  "type": "boolean",
                  "valid": true,
                  "value": true
                },
                "id": "589c623a-63c3-4587-9c75-3a242d07e860",
                "nodeType": "const"
              },
              "quickFilterText": ""
            }
          }
        },
        "id": "acb73ae4-e0bb-47dd-9add-2bbe021964d4",
        "outputId": "84121e21-6847-4c83-f9b2-578f301f1d86"
      },
      "cell_type": "code",
      "id": "acb73ae4-e0bb-47dd-9add-2bbe021964d4",
      "outputs": [
        {
          "output_type": "execute_result",
          "data": {
            "application/com.datacamp.data-table.v2+json": {
              "table": {
                "schema": {
                  "fields": [
                    {
                      "name": "index",
                      "type": "integer"
                    },
                    {
                      "name": "code",
                      "type": "string"
                    },
                    {
                      "name": "lc",
                      "type": "string"
                    },
                    {
                      "name": "product_name_en",
                      "type": "string"
                    },
                    {
                      "name": "quantity",
                      "type": "string"
                    },
                    {
                      "name": "serving_size",
                      "type": "string"
                    },
                    {
                      "name": "packaging_tags",
                      "type": "string"
                    },
                    {
                      "name": "brands",
                      "type": "string"
                    },
                    {
                      "name": "brands_tags",
                      "type": "string"
                    },
                    {
                      "name": "categories_tags",
                      "type": "string"
                    },
                    {
                      "name": "labels_tags",
                      "type": "string"
                    },
                    {
                      "name": "countries",
                      "type": "string"
                    },
                    {
                      "name": "countries_tags",
                      "type": "string"
                    },
                    {
                      "name": "origins",
                      "type": "string"
                    },
                    {
                      "name": "origins_tags",
                      "type": "string"
                    }
                  ],
                  "primaryKey": [
                    "index"
                  ],
                  "pandas_version": "1.4.0"
                },
                "data": {
                  "index": [
                    0,
                    1,
                    2,
                    3,
                    4
                  ],
                  "code": [
                    "0059749979702",
                    "7610095131409",
                    "4005514005578",
                    "0879890002513",
                    "0223086613685"
                  ],
                  "lc": [
                    "fr",
                    "en",
                    "en",
                    "en",
                    "en"
                  ],
                  "product_name_en": [
                    null,
                    null,
                    "Gelbe Linse Avocado Brotaufstrich",
                    "Avocado toast chili lime",
                    "Avocado"
                  ],
                  "quantity": [
                    null,
                    null,
                    null,
                    null,
                    null
                  ],
                  "serving_size": [
                    null,
                    null,
                    null,
                    null,
                    null
                  ],
                  "packaging_tags": [
                    null,
                    null,
                    null,
                    null,
                    null
                  ],
                  "brands": [
                    "Naturalia",
                    "Zweifel",
                    "Tartex",
                    null,
                    null
                  ],
                  "brands_tags": [
                    "naturalia",
                    "zweifel",
                    "tartex",
                    null,
                    null
                  ],
                  "categories_tags": [
                    "en:plant-based-foods-and-beverages,en:plant-based-foods,en:fats,en:vegetable-fats,en:vegetable-oils,en:fruit-and-fruit-seed-oils",
                    "en:snacks,en:salty-snacks,en:appetizers,en:chips-and-fries,en:crisps",
                    "de:abendbrotsufstrich",
                    null,
                    null
                  ],
                  "labels_tags": [
                    null,
                    "en:vegetarian,en:vegan",
                    "en:organic,en:eu-organic,en:eg-oko-verordnung",
                    null,
                    null
                  ],
                  "countries": [
                    "Canada",
                    "Switzerland, World",
                    "Germany",
                    "United States",
                    "United States"
                  ],
                  "countries_tags": [
                    "en:canada",
                    "en:switzerland,en:world",
                    "en:germany",
                    "en:united-states",
                    "en:united-states"
                  ],
                  "origins": [
                    null,
                    null,
                    null,
                    null,
                    null
                  ],
                  "origins_tags": [
                    null,
                    null,
                    null,
                    null,
                    null
                  ]
                }
              },
              "total_rows": 5,
              "truncation_type": null
            },
            "text/plain": "            code  lc  ... origins origins_tags\n0  0059749979702  fr  ...     NaN          NaN\n1  7610095131409  en  ...     NaN          NaN\n2  4005514005578  en  ...     NaN          NaN\n3  0879890002513  en  ...     NaN          NaN\n4  0223086613685  en  ...     NaN          NaN\n\n[5 rows x 14 columns]",
            "text/html": "<div>\n<style scoped>\n    .dataframe tbody tr th:only-of-type {\n        vertical-align: middle;\n    }\n\n    .dataframe tbody tr th {\n        vertical-align: top;\n    }\n\n    .dataframe thead th {\n        text-align: right;\n    }\n</style>\n<table border=\"1\" class=\"dataframe\">\n  <thead>\n    <tr style=\"text-align: right;\">\n      <th></th>\n      <th>code</th>\n      <th>lc</th>\n      <th>product_name_en</th>\n      <th>quantity</th>\n      <th>serving_size</th>\n      <th>packaging_tags</th>\n      <th>brands</th>\n      <th>brands_tags</th>\n      <th>categories_tags</th>\n      <th>labels_tags</th>\n      <th>countries</th>\n      <th>countries_tags</th>\n      <th>origins</th>\n      <th>origins_tags</th>\n    </tr>\n  </thead>\n  <tbody>\n    <tr>\n      <th>0</th>\n      <td>0059749979702</td>\n      <td>fr</td>\n      <td>NaN</td>\n      <td>NaN</td>\n      <td>NaN</td>\n      <td>NaN</td>\n      <td>Naturalia</td>\n      <td>naturalia</td>\n      <td>en:plant-based-foods-and-beverages,en:plant-ba...</td>\n      <td>NaN</td>\n      <td>Canada</td>\n      <td>en:canada</td>\n      <td>NaN</td>\n      <td>NaN</td>\n    </tr>\n    <tr>\n      <th>1</th>\n      <td>7610095131409</td>\n      <td>en</td>\n      <td>NaN</td>\n      <td>NaN</td>\n      <td>NaN</td>\n      <td>NaN</td>\n      <td>Zweifel</td>\n      <td>zweifel</td>\n      <td>en:snacks,en:salty-snacks,en:appetizers,en:chi...</td>\n      <td>en:vegetarian,en:vegan</td>\n      <td>Switzerland, World</td>\n      <td>en:switzerland,en:world</td>\n      <td>NaN</td>\n      <td>NaN</td>\n    </tr>\n    <tr>\n      <th>2</th>\n      <td>4005514005578</td>\n      <td>en</td>\n      <td>Gelbe Linse Avocado Brotaufstrich</td>\n      <td>NaN</td>\n      <td>NaN</td>\n      <td>NaN</td>\n      <td>Tartex</td>\n      <td>tartex</td>\n      <td>de:abendbrotsufstrich</td>\n      <td>en:organic,en:eu-organic,en:eg-oko-verordnung</td>\n      <td>Germany</td>\n      <td>en:germany</td>\n      <td>NaN</td>\n      <td>NaN</td>\n    </tr>\n    <tr>\n      <th>3</th>\n      <td>0879890002513</td>\n      <td>en</td>\n      <td>Avocado toast chili lime</td>\n      <td>NaN</td>\n      <td>NaN</td>\n      <td>NaN</td>\n      <td>NaN</td>\n      <td>NaN</td>\n      <td>NaN</td>\n      <td>NaN</td>\n      <td>United States</td>\n      <td>en:united-states</td>\n      <td>NaN</td>\n      <td>NaN</td>\n    </tr>\n    <tr>\n      <th>4</th>\n      <td>0223086613685</td>\n      <td>en</td>\n      <td>Avocado</td>\n      <td>NaN</td>\n      <td>NaN</td>\n      <td>NaN</td>\n      <td>NaN</td>\n      <td>NaN</td>\n      <td>NaN</td>\n      <td>NaN</td>\n      <td>United States</td>\n      <td>en:united-states</td>\n      <td>NaN</td>\n      <td>NaN</td>\n    </tr>\n  </tbody>\n</table>\n</div>"
          },
          "metadata": {
            "application/com.datacamp.data-table.v2+json": {
              "status": "success"
            }
          },
          "execution_count": 14
        }
      ],
      "execution_count": null
    },
    {
      "source": [
        "# Drop rows with null values in 'categories_tags'\n",
        "avocado_subset = avocado_subset.dropna(subset=['categories_tags'])\n",
        "\n",
        "# Ensure 'categories_tags' is a string before splitting\n",
        "avocado_subset['categories_tags'] = avocado_subset['categories_tags'].apply(lambda x: x if isinstance(x, list) else x.split(','))\n",
        "\n",
        "# Filter the DataFrame to contain only rows with relevant category tags\n",
        "filtered_avocado = avocado_subset[avocado_subset['categories_tags'].apply(lambda tags: any(tag in relevant_avocado_categories for tag in tags))]\n",
        "\n",
        "filtered_avocado.head()"
      ],
      "metadata": {
        "executionCancelledAt": null,
        "executionTime": 53,
        "lastExecutedAt": 1738617150688,
        "lastExecutedByKernel": "001ecb78-15db-4ab7-a289-842d27ba2f24",
        "lastScheduledRunId": null,
        "lastSuccessfullyExecutedCode": "# Drop rows with null values in 'categories_tags'\navocado_subset = avocado_subset.dropna(subset=['categories_tags'])\n\n# Ensure 'categories_tags' is a string before splitting\navocado_subset['categories_tags'] = avocado_subset['categories_tags'].apply(lambda x: x if isinstance(x, list) else x.split(','))\n\n# Filter the DataFrame to contain only rows with relevant category tags\nfiltered_avocado = avocado_subset[avocado_subset['categories_tags'].apply(lambda tags: any(tag in relevant_avocado_categories for tag in tags))]\n\nfiltered_avocado.head()",
        "outputsMetadata": {
          "0": {
            "height": 262,
            "type": "dataFrame",
            "tableState": {
              "customFilter": {
                "const": {
                  "type": "boolean",
                  "valid": true,
                  "value": true
                },
                "id": "589c623a-63c3-4587-9c75-3a242d07e860",
                "nodeType": "const"
              },
              "quickFilterText": ""
            }
          }
        },
        "id": "d7a42248-ec57-4cdc-aa42-833419f295b0",
        "outputId": "084db010-3c4b-47c5-a68b-aa3c08bdeb12"
      },
      "cell_type": "code",
      "id": "d7a42248-ec57-4cdc-aa42-833419f295b0",
      "outputs": [
        {
          "output_type": "execute_result",
          "data": {
            "application/com.datacamp.data-table.v2+json": {
              "table": {
                "schema": {
                  "fields": [
                    {
                      "name": "index",
                      "type": "integer"
                    },
                    {
                      "name": "code",
                      "type": "string"
                    },
                    {
                      "name": "lc",
                      "type": "string"
                    },
                    {
                      "name": "product_name_en",
                      "type": "string"
                    },
                    {
                      "name": "quantity",
                      "type": "string"
                    },
                    {
                      "name": "serving_size",
                      "type": "string"
                    },
                    {
                      "name": "packaging_tags",
                      "type": "string"
                    },
                    {
                      "name": "brands",
                      "type": "string"
                    },
                    {
                      "name": "brands_tags",
                      "type": "string"
                    },
                    {
                      "name": "categories_tags",
                      "type": "string"
                    },
                    {
                      "name": "labels_tags",
                      "type": "string"
                    },
                    {
                      "name": "countries",
                      "type": "string"
                    },
                    {
                      "name": "countries_tags",
                      "type": "string"
                    },
                    {
                      "name": "origins",
                      "type": "string"
                    },
                    {
                      "name": "origins_tags",
                      "type": "string"
                    }
                  ],
                  "primaryKey": [
                    "index"
                  ],
                  "pandas_version": "1.4.0"
                },
                "data": {
                  "index": [
                    5,
                    6,
                    14,
                    17,
                    23
                  ],
                  "code": [
                    "3662994002063",
                    "8437013031011",
                    "4016249238155",
                    "8718963381532",
                    "8436002746707"
                  ],
                  "lc": [
                    "fr",
                    "fr",
                    "de",
                    "de",
                    "es"
                  ],
                  "product_name_en": [
                    null,
                    null,
                    null,
                    null,
                    null
                  ],
                  "quantity": [
                    "3 fruits",
                    "1 kg",
                    "135g",
                    null,
                    null
                  ],
                  "serving_size": [
                    null,
                    null,
                    "100g",
                    null,
                    null
                  ],
                  "packaging_tags": [
                    null,
                    null,
                    "de:gläschen",
                    null,
                    null
                  ],
                  "brands": [
                    "la compagnie des fruits mûrs",
                    null,
                    "Allos",
                    null,
                    null
                  ],
                  "brands_tags": [
                    "la-compagnie-des-fruits-murs",
                    null,
                    "allos",
                    null,
                    null
                  ],
                  "categories_tags": [
                    [
                      "en:plant-based-foods-and-beverages",
                      "en:plant-based-foods",
                      "en:fruits-and-vegetables-based-foods",
                      "en:fruits-based-foods",
                      "en:fruits",
                      "en:tropical-fruits",
                      "en:avocados"
                    ],
                    [
                      "en:plant-based-foods-and-beverages",
                      "en:plant-based-foods",
                      "en:fruits-and-vegetables-based-foods",
                      "en:fruits-based-foods",
                      "en:fruits",
                      "en:tropical-fruits",
                      "en:avocados"
                    ],
                    [
                      "en:plant-based-foods-and-beverages",
                      "en:plant-based-foods",
                      "en:fruits-and-vegetables-based-foods",
                      "en:spreads",
                      "en:fruits-based-foods",
                      "en:plant-based-spreads",
                      "en:salted-spreads",
                      "en:fruits",
                      "en:tropical-fruits",
                      "en:avocados",
                      "en:avocado-pulp"
                    ],
                    [
                      "en:plant-based-foods-and-beverages",
                      "en:plant-based-foods",
                      "en:fruits-and-vegetables-based-foods",
                      "en:fruits-based-foods",
                      "en:fruits",
                      "en:tropical-fruits",
                      "en:avocados"
                    ],
                    [
                      "en:plant-based-foods-and-beverages",
                      "en:plant-based-foods",
                      "en:fruits-and-vegetables-based-foods",
                      "en:fruits-based-foods",
                      "en:fruits",
                      "en:tropical-fruits",
                      "en:avocados"
                    ]
                  ],
                  "labels_tags": [
                    null,
                    null,
                    "en:organic,en:vegetarian,en:eu-organic,en:no-gluten,en:vegan,en:de-oko-003,en:green-dot,en:made-in-germany",
                    null,
                    null
                  ],
                  "countries": [
                    "France",
                    "France",
                    "Deutschland",
                    "Deutschland",
                    "España"
                  ],
                  "countries_tags": [
                    "en:france",
                    "en:france",
                    "en:germany",
                    "en:germany",
                    "en:spain"
                  ],
                  "origins": [
                    null,
                    null,
                    "Europäische Union",
                    null,
                    null
                  ],
                  "origins_tags": [
                    null,
                    null,
                    "en:european-union",
                    null,
                    null
                  ]
                }
              },
              "total_rows": 5,
              "truncation_type": null
            },
            "text/plain": "             code  lc  ...            origins       origins_tags\n5   3662994002063  fr  ...                NaN                NaN\n6   8437013031011  fr  ...                NaN                NaN\n14  4016249238155  de  ...  Europäische Union  en:european-union\n17  8718963381532  de  ...                NaN                NaN\n23  8436002746707  es  ...                NaN                NaN\n\n[5 rows x 14 columns]",
            "text/html": "<div>\n<style scoped>\n    .dataframe tbody tr th:only-of-type {\n        vertical-align: middle;\n    }\n\n    .dataframe tbody tr th {\n        vertical-align: top;\n    }\n\n    .dataframe thead th {\n        text-align: right;\n    }\n</style>\n<table border=\"1\" class=\"dataframe\">\n  <thead>\n    <tr style=\"text-align: right;\">\n      <th></th>\n      <th>code</th>\n      <th>lc</th>\n      <th>product_name_en</th>\n      <th>quantity</th>\n      <th>serving_size</th>\n      <th>packaging_tags</th>\n      <th>brands</th>\n      <th>brands_tags</th>\n      <th>categories_tags</th>\n      <th>labels_tags</th>\n      <th>countries</th>\n      <th>countries_tags</th>\n      <th>origins</th>\n      <th>origins_tags</th>\n    </tr>\n  </thead>\n  <tbody>\n    <tr>\n      <th>5</th>\n      <td>3662994002063</td>\n      <td>fr</td>\n      <td>NaN</td>\n      <td>3 fruits</td>\n      <td>NaN</td>\n      <td>NaN</td>\n      <td>la compagnie des fruits mûrs</td>\n      <td>la-compagnie-des-fruits-murs</td>\n      <td>[en:plant-based-foods-and-beverages, en:plant-...</td>\n      <td>NaN</td>\n      <td>France</td>\n      <td>en:france</td>\n      <td>NaN</td>\n      <td>NaN</td>\n    </tr>\n    <tr>\n      <th>6</th>\n      <td>8437013031011</td>\n      <td>fr</td>\n      <td>NaN</td>\n      <td>1 kg</td>\n      <td>NaN</td>\n      <td>NaN</td>\n      <td>NaN</td>\n      <td>NaN</td>\n      <td>[en:plant-based-foods-and-beverages, en:plant-...</td>\n      <td>NaN</td>\n      <td>France</td>\n      <td>en:france</td>\n      <td>NaN</td>\n      <td>NaN</td>\n    </tr>\n    <tr>\n      <th>14</th>\n      <td>4016249238155</td>\n      <td>de</td>\n      <td>NaN</td>\n      <td>135g</td>\n      <td>100g</td>\n      <td>de:gläschen</td>\n      <td>Allos</td>\n      <td>allos</td>\n      <td>[en:plant-based-foods-and-beverages, en:plant-...</td>\n      <td>en:organic,en:vegetarian,en:eu-organic,en:no-g...</td>\n      <td>Deutschland</td>\n      <td>en:germany</td>\n      <td>Europäische Union</td>\n      <td>en:european-union</td>\n    </tr>\n    <tr>\n      <th>17</th>\n      <td>8718963381532</td>\n      <td>de</td>\n      <td>NaN</td>\n      <td>NaN</td>\n      <td>NaN</td>\n      <td>NaN</td>\n      <td>NaN</td>\n      <td>NaN</td>\n      <td>[en:plant-based-foods-and-beverages, en:plant-...</td>\n      <td>NaN</td>\n      <td>Deutschland</td>\n      <td>en:germany</td>\n      <td>NaN</td>\n      <td>NaN</td>\n    </tr>\n    <tr>\n      <th>23</th>\n      <td>8436002746707</td>\n      <td>es</td>\n      <td>NaN</td>\n      <td>NaN</td>\n      <td>NaN</td>\n      <td>NaN</td>\n      <td>NaN</td>\n      <td>NaN</td>\n      <td>[en:plant-based-foods-and-beverages, en:plant-...</td>\n      <td>NaN</td>\n      <td>España</td>\n      <td>en:spain</td>\n      <td>NaN</td>\n      <td>NaN</td>\n    </tr>\n  </tbody>\n</table>\n</div>"
          },
          "metadata": {
            "application/com.datacamp.data-table.v2+json": {
              "status": "success"
            }
          },
          "execution_count": 15
        }
      ],
      "execution_count": null
    },
    {
      "source": [
        "# Filter the DataFrame to include only avocados from the United Kingdom\n",
        "avocados_uk = filtered_avocado[filtered_avocado['countries'] == 'United Kingdom']\n",
        "\n",
        "# Get the most common origin of avocados in the UK\n",
        "top_avocado_origin = avocados_uk['origins_tags'].value_counts().index[0]\n",
        "\n",
        "# Strip out characters before the country name and replace hyphens with spaces\n",
        "top_avocado_origin = top_avocado_origin.lstrip(\"en:\").replace('-', ' ')\n",
        "\n",
        "top_avocado_origin"
      ],
      "metadata": {
        "executionCancelledAt": null,
        "executionTime": 55,
        "lastExecutedAt": 1738617150743,
        "lastExecutedByKernel": "001ecb78-15db-4ab7-a289-842d27ba2f24",
        "lastScheduledRunId": null,
        "lastSuccessfullyExecutedCode": "# Filter the DataFrame to include only avocados from the United Kingdom\navocados_uk = filtered_avocado[filtered_avocado['countries'] == 'United Kingdom']\n\n# Get the most common origin of avocados in the UK\ntop_avocado_origin = avocados_uk['origins_tags'].value_counts().index[0]\n\n# Strip out characters before the country name and replace hyphens with spaces\ntop_avocado_origin = top_avocado_origin.lstrip(\"en:\").replace('-', ' ')\n\ntop_avocado_origin",
        "id": "6b95761f-5414-4c85-a283-2352ad559a8c",
        "outputId": "e1cb8d17-c9f9-48c4-c807-4779728cfd05"
      },
      "cell_type": "code",
      "id": "6b95761f-5414-4c85-a283-2352ad559a8c",
      "outputs": [
        {
          "output_type": "execute_result",
          "data": {
            "text/plain": "'peru'"
          },
          "metadata": {},
          "execution_count": 16
        }
      ],
      "execution_count": null
    },
    {
      "source": [
        "def read_and_filter_data(filename, relevant_categories):\n",
        "  df = pd.read_csv('data/' + filename, sep='\\t')\n",
        "\n",
        "  # Subset large DataFrame to include only relevant columns\n",
        "  subset_columns = [ 'code', 'lc', 'product_name_en', 'quantity', 'serving_size', 'packaging_tags', 'brands', 'brands_tags', 'categories_tags', 'labels_tags', 'countries', 'countries_tags', 'origins','origins_tags']\n",
        "  df = df[subset_columns]\n",
        "\n",
        "  # Split tags into lists\n",
        "  df['categories_list'] = df['categories_tags'].str.split(',')\n",
        "\n",
        "  # Drop rows with null categories data\n",
        "  df = df.dropna(subset = 'categories_list')\n",
        "\n",
        "  # Filter data for relevant categories\n",
        "  df = df[df['categories_list'].apply(lambda x: any([i for i in x if i in relevant_categories]))]\n",
        "\n",
        "  # Filter data for the UK\n",
        "  df_uk = df[(df['countries']=='United Kingdom')]\n",
        "\n",
        "  # Find top origin country string with the highest count\n",
        "  top_origin_string = (df_uk['origins_tags'].value_counts().index[0])\n",
        "\n",
        "  # Clean up top origin country string\n",
        "  top_origin_country = top_origin_string.lstrip(\"en:\")\n",
        "  top_origin_country = top_origin_country.replace('-', ' ')\n",
        "\n",
        "  print(f'**{filename[:-4]} origins**','\\n', top_origin_country, '\\n')\n",
        "\n",
        "  print (\"Top origin country: \", top_origin_country)\n",
        "  print (\"\\n\")\n",
        "\n",
        "  # End of function - return top origin country for this ingredient\n",
        "  return top_origin_country\n",
        "\n",
        "\n",
        "# Analyze avocado origins again, this time by calling function\n",
        "top_avocado_origin = read_and_filter_data('avocado.csv',relevant_avocado_categories)\n",
        "\n",
        "### Repeat process above with new function for the other 2 ingredients\n",
        "\n",
        "# Gather relevant categories data for olive oil\n",
        "with open(\"data/relevant_olive_oil_categories.txt\", \"r\") as file:\n",
        "    relevant_olive_oil_categories = file.read().splitlines()\n",
        "    file.close()\n",
        "\n",
        "# Call user-defined function on olive_oil.csv\n",
        "top_olive_oil_origin = read_and_filter_data('olive_oil.csv',relevant_olive_oil_categories)\n",
        "\n",
        "# Gather relevant categories data for sourdough\n",
        "with open(\"data/relevant_sourdough_categories.txt\", \"r\") as file:\n",
        "    relevant_sourdough_categories = file.read().splitlines()\n",
        "    file.close()\n",
        "\n",
        "# Call user-defined function on sourdough.csv\n",
        "top_sourdough_origin = read_and_filter_data('sourdough.csv',relevant_sourdough_categories)"
      ],
      "metadata": {
        "executionCancelledAt": null,
        "executionTime": null,
        "lastExecutedAt": null,
        "lastExecutedByKernel": null,
        "lastScheduledRunId": null,
        "lastSuccessfullyExecutedCode": null,
        "outputsMetadata": {
          "0": {
            "height": 395,
            "type": "stream"
          }
        },
        "id": "8a03f447-2dd1-4be2-8d04-bd9a0d328d42",
        "outputId": "94284e22-bf95-4618-bb24-676588ab3d44"
      },
      "cell_type": "code",
      "id": "8a03f447-2dd1-4be2-8d04-bd9a0d328d42",
      "outputs": [
        {
          "output_type": "stream",
          "name": "stdout",
          "text": "**avocado origins** \n peru \n\nTop origin country:  peru\n\n\n**olive_oil origins** \n greece \n\nTop origin country:  greece\n\n\n**sourdough origins** \n united kingdom \n\nTop origin country:  united kingdom\n\n\n"
        }
      ],
      "execution_count": null
    }
  ],
  "metadata": {
    "colab": {
      "provenance": [],
      "include_colab_link": true
    },
    "kernelspec": {
      "display_name": "Python 3 (ipykernel)",
      "language": "python",
      "name": "python3"
    },
    "language_info": {
      "codemirror_mode": {
        "name": "ipython",
        "version": 3
      },
      "file_extension": ".py",
      "mimetype": "text/x-python",
      "name": "python",
      "nbconvert_exporter": "python",
      "pygments_lexer": "ipython3",
      "version": "3.8.10"
    }
  },
  "nbformat": 4,
  "nbformat_minor": 5
}